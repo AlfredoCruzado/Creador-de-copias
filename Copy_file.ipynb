{
 "cells": [
  {
   "cell_type": "code",
   "execution_count": 1,
   "id": "8449a748",
   "metadata": {},
   "outputs": [
    {
     "data": {
      "text/html": [
       "<div>\n",
       "<style scoped>\n",
       "    .dataframe tbody tr th:only-of-type {\n",
       "        vertical-align: middle;\n",
       "    }\n",
       "\n",
       "    .dataframe tbody tr th {\n",
       "        vertical-align: top;\n",
       "    }\n",
       "\n",
       "    .dataframe thead th {\n",
       "        text-align: right;\n",
       "    }\n",
       "</style>\n",
       "<table border=\"1\" class=\"dataframe\">\n",
       "  <thead>\n",
       "    <tr style=\"text-align: right;\">\n",
       "      <th></th>\n",
       "      <th>Unnamed: 0</th>\n",
       "      <th>Avance</th>\n",
       "      <th>Comentarios</th>\n",
       "      <th>Horas</th>\n",
       "    </tr>\n",
       "  </thead>\n",
       "  <tbody>\n",
       "    <tr>\n",
       "      <th>count</th>\n",
       "      <td>0.0</td>\n",
       "      <td>12.000000</td>\n",
       "      <td>0.0</td>\n",
       "      <td>11.000000</td>\n",
       "    </tr>\n",
       "    <tr>\n",
       "      <th>mean</th>\n",
       "      <td>NaN</td>\n",
       "      <td>0.733333</td>\n",
       "      <td>NaN</td>\n",
       "      <td>3.636364</td>\n",
       "    </tr>\n",
       "    <tr>\n",
       "      <th>std</th>\n",
       "      <td>NaN</td>\n",
       "      <td>0.344656</td>\n",
       "      <td>NaN</td>\n",
       "      <td>3.613107</td>\n",
       "    </tr>\n",
       "    <tr>\n",
       "      <th>min</th>\n",
       "      <td>NaN</td>\n",
       "      <td>0.200000</td>\n",
       "      <td>NaN</td>\n",
       "      <td>0.500000</td>\n",
       "    </tr>\n",
       "    <tr>\n",
       "      <th>25%</th>\n",
       "      <td>NaN</td>\n",
       "      <td>0.400000</td>\n",
       "      <td>NaN</td>\n",
       "      <td>0.500000</td>\n",
       "    </tr>\n",
       "    <tr>\n",
       "      <th>50%</th>\n",
       "      <td>NaN</td>\n",
       "      <td>1.000000</td>\n",
       "      <td>NaN</td>\n",
       "      <td>0.500000</td>\n",
       "    </tr>\n",
       "    <tr>\n",
       "      <th>75%</th>\n",
       "      <td>NaN</td>\n",
       "      <td>1.000000</td>\n",
       "      <td>NaN</td>\n",
       "      <td>7.250000</td>\n",
       "    </tr>\n",
       "    <tr>\n",
       "      <th>max</th>\n",
       "      <td>NaN</td>\n",
       "      <td>1.000000</td>\n",
       "      <td>NaN</td>\n",
       "      <td>8.000000</td>\n",
       "    </tr>\n",
       "  </tbody>\n",
       "</table>\n",
       "</div>"
      ],
      "text/plain": [
       "       Unnamed: 0     Avance  Comentarios      Horas\n",
       "count         0.0  12.000000          0.0  11.000000\n",
       "mean          NaN   0.733333          NaN   3.636364\n",
       "std           NaN   0.344656          NaN   3.613107\n",
       "min           NaN   0.200000          NaN   0.500000\n",
       "25%           NaN   0.400000          NaN   0.500000\n",
       "50%           NaN   1.000000          NaN   0.500000\n",
       "75%           NaN   1.000000          NaN   7.250000\n",
       "max           NaN   1.000000          NaN   8.000000"
      ]
     },
     "execution_count": 1,
     "metadata": {},
     "output_type": "execute_result"
    }
   ],
   "source": [
    "import shutil\n",
    "\n",
    "import pandas as pd\n",
    "\n",
    "Fuente = \"C:/Users/con_acruzados/Documents/Reporte_Diario/prueba/resgistro_diario.xlsx\"\n",
    "Destino = \"C:/Users/con_acruzados/Documents/Reporte_Diario/prueba/resgistro_diariod.xlsx\"\n",
    "\n",
    "shutil.copy(Fuente, Destino)\n",
    "#shutil.copy(\"resgistro_diario.xlsx\",\"C:/Users/con_acruzados/Documents/Reporte_Diario/prueba/resgistro_diariod.xlsx\")\n",
    "df = pd.read_excel(\"resgistro_diariod.xlsx\", sheet_name='Hoja1')\n",
    "df.describe()"
   ]
  },
  {
   "cell_type": "code",
   "execution_count": 2,
   "id": "247c47e1",
   "metadata": {},
   "outputs": [],
   "source": [
    "df = pd.read_excel(\"resgistro_diariod.xlsx\", sheet_name='Hoja1')"
   ]
  },
  {
   "cell_type": "code",
   "execution_count": 6,
   "id": "26aef38d",
   "metadata": {},
   "outputs": [
    {
     "name": "stdout",
     "output_type": "stream",
     "text": [
      "Columns\n",
      "Index(['Unnamed: 0', 'Fecha', 'Proyecto', 'Actividad', 'Avance', 'Comentarios',\n",
      "       'Horas'],\n",
      "      dtype='object')\n"
     ]
    }
   ],
   "source": [
    "print(\"Columns\")\n",
    "print(df.columns)"
   ]
  },
  {
   "cell_type": "code",
   "execution_count": 9,
   "id": "fa61b96c",
   "metadata": {},
   "outputs": [
    {
     "name": "stdout",
     "output_type": "stream",
     "text": [
      "Fecha\n",
      "-----\n",
      "2022-06-06 00:00:00\n",
      "NaT\n",
      "NaT\n",
      "NaT\n",
      "NaT\n",
      "NaT\n",
      "NaT\n",
      "NaT\n",
      "NaT\n",
      "NaT\n",
      "NaT\n",
      "2022-07-06 00:00:00\n",
      "NaT\n",
      "NaT\n",
      "NaT\n",
      "NaT\n",
      "NaT\n",
      "NaT\n",
      "2022-08-06 00:00:00\n",
      "NaT\n",
      "NaT\n",
      "NaT\n",
      "NaT\n",
      "NaT\n",
      "2022-09-06 00:00:00\n",
      "NaT\n",
      "NaT\n",
      "NaT\n",
      "NaT\n",
      "2022-10-06 00:00:00\n",
      "NaT\n",
      "NaT\n",
      "NaT\n",
      "NaT\n",
      "NaT\n",
      "NaT\n"
     ]
    }
   ],
   "source": [
    "column = df.columns[1]\n",
    "print(column)\n",
    "print(\"-\" * len(column))\n",
    "\n",
    "for index, row in df.iterrows():\n",
    "    print(row[column])"
   ]
  },
  {
   "cell_type": "code",
   "execution_count": 24,
   "id": "310fb284",
   "metadata": {},
   "outputs": [
    {
     "name": "stdout",
     "output_type": "stream",
     "text": [
      "Fecha\n"
     ]
    }
   ],
   "source": [
    "my_list= column\n",
    "for index, value in enumerate(my_list):\n",
    "    if value == \"Fecha\":\n",
    "      my_list[index] = 2022\n",
    "\n",
    "print(my_list)"
   ]
  },
  {
   "cell_type": "code",
   "execution_count": null,
   "id": "5f3af455",
   "metadata": {},
   "outputs": [],
   "source": [
    "df = pd.DataFrame(data,columns=['Fecha','city'])\n",
    "df['city']=df['city'].map('I am from {}'.format)"
   ]
  }
 ],
 "metadata": {
  "kernelspec": {
   "display_name": "Python 3 (ipykernel)",
   "language": "python",
   "name": "python3"
  },
  "language_info": {
   "codemirror_mode": {
    "name": "ipython",
    "version": 3
   },
   "file_extension": ".py",
   "mimetype": "text/x-python",
   "name": "python",
   "nbconvert_exporter": "python",
   "pygments_lexer": "ipython3",
   "version": "3.9.12"
  }
 },
 "nbformat": 4,
 "nbformat_minor": 5
}
